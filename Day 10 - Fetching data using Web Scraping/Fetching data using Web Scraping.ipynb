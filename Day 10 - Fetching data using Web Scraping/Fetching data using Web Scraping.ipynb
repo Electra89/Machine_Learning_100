{
  "nbformat": 4,
  "nbformat_minor": 0,
  "metadata": {
    "colab": {
      "provenance": []
    },
    "kernelspec": {
      "name": "python3",
      "display_name": "Python 3"
    },
    "language_info": {
      "name": "python"
    }
  },
  "cells": [
    {
      "cell_type": "markdown",
      "source": [],
      "metadata": {
        "id": "fkFu4QwhCh4M"
      }
    },
    {
      "cell_type": "markdown",
      "source": [
        "## Loading Libraray\n",
        "\n",
        "---"
      ],
      "metadata": {
        "id": "Rdteq3sT4LjU"
      }
    },
    {
      "cell_type": "code",
      "source": [
        "import requests  # pip install requests\n",
        "\n",
        "from bs4 import BeautifulSoup as bs   # pip install beautifulsoup"
      ],
      "metadata": {
        "id": "tS55wLBV4MhM"
      },
      "execution_count": 69,
      "outputs": []
    },
    {
      "cell_type": "markdown",
      "source": [
        "## Load page link"
      ],
      "metadata": {
        "id": "uaeaIXBC4SPH"
      }
    },
    {
      "cell_type": "code",
      "source": [
        "# Load the webpage content\n",
        "r = requests.get(\"https://keithgalli.github.io/web-scraping/example.html\")\n",
        "\n",
        "# Convert to a beautiful soup object\n",
        "soup = bs(r.content)\n",
        "\n",
        "# Print out our html\n",
        "print(soup.prettify())"
      ],
      "metadata": {
        "colab": {
          "base_uri": "https://localhost:8080/"
        },
        "id": "tZ4CLBia4QTI",
        "outputId": "4aca8b94-366b-40e6-be6e-7e9e45954671"
      },
      "execution_count": 70,
      "outputs": [
        {
          "output_type": "stream",
          "name": "stdout",
          "text": [
            "<html>\n",
            " <head>\n",
            "  <title>\n",
            "   HTML Example\n",
            "  </title>\n",
            " </head>\n",
            " <body>\n",
            "  <div align=\"middle\">\n",
            "   <h1>\n",
            "    HTML Webpage\n",
            "   </h1>\n",
            "   <p>\n",
            "    Link to more interesting example:\n",
            "    <a href=\"https://keithgalli.github.io/web-scraping/webpage.html\">\n",
            "     keithgalli.github.io/web-scraping/webpage.html\n",
            "    </a>\n",
            "   </p>\n",
            "  </div>\n",
            "  <h2>\n",
            "   A Header\n",
            "  </h2>\n",
            "  <p>\n",
            "   <i>\n",
            "    Some italicized text\n",
            "   </i>\n",
            "  </p>\n",
            "  <h2>\n",
            "   Another header\n",
            "  </h2>\n",
            "  <p id=\"paragraph-id\">\n",
            "   <b>\n",
            "    Some bold text\n",
            "   </b>\n",
            "  </p>\n",
            " </body>\n",
            "</html>\n",
            "\n"
          ]
        }
      ]
    },
    {
      "cell_type": "markdown",
      "source": [
        "## find and find_all"
      ],
      "metadata": {
        "id": "jr73sB194kO7"
      }
    },
    {
      "cell_type": "code",
      "source": [
        "first_header = soup.find(\"h2\")\n",
        "first_header"
      ],
      "metadata": {
        "colab": {
          "base_uri": "https://localhost:8080/"
        },
        "id": "J8kmdbeZ4lxK",
        "outputId": "0b6a1633-0ea1-4993-c5c9-ab3e64744fb3"
      },
      "execution_count": 71,
      "outputs": [
        {
          "output_type": "execute_result",
          "data": {
            "text/plain": [
              "<h2>A Header</h2>"
            ]
          },
          "metadata": {},
          "execution_count": 71
        }
      ]
    },
    {
      "cell_type": "code",
      "source": [
        "headers = soup.find_all(\"h2\")\n",
        "headers"
      ],
      "metadata": {
        "colab": {
          "base_uri": "https://localhost:8080/"
        },
        "id": "wB1QrQW64qZT",
        "outputId": "66149a0b-f837-4950-d61d-032cafe471b7"
      },
      "execution_count": 72,
      "outputs": [
        {
          "output_type": "execute_result",
          "data": {
            "text/plain": [
              "[<h2>A Header</h2>, <h2>Another header</h2>]"
            ]
          },
          "metadata": {},
          "execution_count": 72
        }
      ]
    },
    {
      "cell_type": "code",
      "source": [
        "# Pass in a list of elements to look for\n",
        "first_header = soup.find([\"h1\", \"h2\"])\n",
        "first_header"
      ],
      "metadata": {
        "colab": {
          "base_uri": "https://localhost:8080/"
        },
        "id": "WMRM8-4h4rvO",
        "outputId": "fe614145-56e0-455b-e335-03c407ccc7cc"
      },
      "execution_count": 73,
      "outputs": [
        {
          "output_type": "execute_result",
          "data": {
            "text/plain": [
              "<h1>HTML Webpage</h1>"
            ]
          },
          "metadata": {},
          "execution_count": 73
        }
      ]
    },
    {
      "cell_type": "code",
      "source": [
        "headers = soup.find_all([\"h1\", \"h2\"])\n",
        "headers"
      ],
      "metadata": {
        "colab": {
          "base_uri": "https://localhost:8080/"
        },
        "id": "AmCHDI0H4uBD",
        "outputId": "dbab8e9c-e6a1-4cd6-84d3-7ab3995934e9"
      },
      "execution_count": 74,
      "outputs": [
        {
          "output_type": "execute_result",
          "data": {
            "text/plain": [
              "[<h1>HTML Webpage</h1>, <h2>A Header</h2>, <h2>Another header</h2>]"
            ]
          },
          "metadata": {},
          "execution_count": 74
        }
      ]
    },
    {
      "cell_type": "code",
      "source": [
        "# You can pass in attributes to the find/find_all function\n",
        "paragraph = soup.find_all(\"p\", attrs={\"id\": \"paragraph-id\"})\n",
        "paragraph"
      ],
      "metadata": {
        "colab": {
          "base_uri": "https://localhost:8080/"
        },
        "id": "LoaW8vSu4vQq",
        "outputId": "7560fcde-c2cd-406f-e6bd-573e357e6acb"
      },
      "execution_count": 75,
      "outputs": [
        {
          "output_type": "execute_result",
          "data": {
            "text/plain": [
              "[<p id=\"paragraph-id\"><b>Some bold text</b></p>]"
            ]
          },
          "metadata": {},
          "execution_count": 75
        }
      ]
    },
    {
      "cell_type": "code",
      "source": [
        "# You can nest find/find_all calls\n",
        "body = soup.find('body')\n",
        "div = body.find('div')\n",
        "header = div.find('h1')\n",
        "header"
      ],
      "metadata": {
        "colab": {
          "base_uri": "https://localhost:8080/"
        },
        "id": "UGNN3bz14wY5",
        "outputId": "a4471e9e-0cdf-4212-c299-5dd952c2b128"
      },
      "execution_count": 76,
      "outputs": [
        {
          "output_type": "execute_result",
          "data": {
            "text/plain": [
              "<h1>HTML Webpage</h1>"
            ]
          },
          "metadata": {},
          "execution_count": 76
        }
      ]
    },
    {
      "cell_type": "code",
      "source": [
        "paragraphs = soup.find_all(\"p\", string='Some bold text')\n",
        "paragraph"
      ],
      "metadata": {
        "colab": {
          "base_uri": "https://localhost:8080/"
        },
        "id": "6mzuMfXD4yCX",
        "outputId": "584fb0c3-03e6-49c8-b4e3-ec4ed7d2eef7"
      },
      "execution_count": 77,
      "outputs": [
        {
          "output_type": "execute_result",
          "data": {
            "text/plain": [
              "[<p id=\"paragraph-id\"><b>Some bold text</b></p>]"
            ]
          },
          "metadata": {},
          "execution_count": 77
        }
      ]
    },
    {
      "cell_type": "code",
      "source": [
        "# We can search specific strings in our find/find_all calls\n",
        "import re\n",
        "\n",
        "paragraphs = soup.find_all(\"p\", string=re.compile(\"Some\"))\n",
        "paragraphs\n",
        "\n",
        "headers = soup.find_all(\"h2\", string=re.compile(\"(H|h)eader\"))\n",
        "headers"
      ],
      "metadata": {
        "colab": {
          "base_uri": "https://localhost:8080/"
        },
        "id": "QstykglA42Rg",
        "outputId": "01d3a399-55d6-4dc8-c280-51d21c300ce9"
      },
      "execution_count": 78,
      "outputs": [
        {
          "output_type": "execute_result",
          "data": {
            "text/plain": [
              "[<h2>A Header</h2>, <h2>Another header</h2>]"
            ]
          },
          "metadata": {},
          "execution_count": 78
        }
      ]
    },
    {
      "cell_type": "markdown",
      "source": [
        "## select (CSS selector)\n",
        "\n",
        "[CSS Selector Reference](https://www.w3schools.com/cssref/css_selectors.php)\n",
        "\n",
        "[Beautiful Soup Documentation](https://www.crummy.com/software/BeautifulSoup/bs4/doc/)"
      ],
      "metadata": {
        "id": "0_wdajDc44Vu"
      }
    },
    {
      "cell_type": "code",
      "source": [
        "print(soup.body.prettify())"
      ],
      "metadata": {
        "colab": {
          "base_uri": "https://localhost:8080/"
        },
        "id": "YkerNlux463L",
        "outputId": "76d29762-dc2d-47d7-f6d5-c226cfdac633"
      },
      "execution_count": 79,
      "outputs": [
        {
          "output_type": "stream",
          "name": "stdout",
          "text": [
            "<body>\n",
            " <div align=\"middle\">\n",
            "  <h1>\n",
            "   HTML Webpage\n",
            "  </h1>\n",
            "  <p>\n",
            "   Link to more interesting example:\n",
            "   <a href=\"https://keithgalli.github.io/web-scraping/webpage.html\">\n",
            "    keithgalli.github.io/web-scraping/webpage.html\n",
            "   </a>\n",
            "  </p>\n",
            " </div>\n",
            " <h2>\n",
            "  A Header\n",
            " </h2>\n",
            " <p>\n",
            "  <i>\n",
            "   Some italicized text\n",
            "  </i>\n",
            " </p>\n",
            " <h2>\n",
            "  Another header\n",
            " </h2>\n",
            " <p id=\"paragraph-id\">\n",
            "  <b>\n",
            "   Some bold text\n",
            "  </b>\n",
            " </p>\n",
            "</body>\n",
            "\n"
          ]
        }
      ]
    },
    {
      "cell_type": "code",
      "source": [
        "content = soup.select(\"div p\")\n",
        "content\n"
      ],
      "metadata": {
        "colab": {
          "base_uri": "https://localhost:8080/"
        },
        "id": "_GlPpIMT49MQ",
        "outputId": "9a2f6252-ad36-418b-a25b-78a9ca902faf"
      },
      "execution_count": 80,
      "outputs": [
        {
          "output_type": "execute_result",
          "data": {
            "text/plain": [
              "[<p>Link to more interesting example: <a href=\"https://keithgalli.github.io/web-scraping/webpage.html\">keithgalli.github.io/web-scraping/webpage.html</a></p>]"
            ]
          },
          "metadata": {},
          "execution_count": 80
        }
      ]
    },
    {
      "cell_type": "code",
      "source": [
        "paragraphs = soup.select(\"h2 ~ p\")\n",
        "paragraphs"
      ],
      "metadata": {
        "colab": {
          "base_uri": "https://localhost:8080/"
        },
        "id": "3qcesqT34_ah",
        "outputId": "9800a33f-50e4-4b4a-c146-06660baf990d"
      },
      "execution_count": 81,
      "outputs": [
        {
          "output_type": "execute_result",
          "data": {
            "text/plain": [
              "[<p><i>Some italicized text</i></p>,\n",
              " <p id=\"paragraph-id\"><b>Some bold text</b></p>]"
            ]
          },
          "metadata": {},
          "execution_count": 81
        }
      ]
    },
    {
      "cell_type": "code",
      "source": [
        "bold_text = soup.select(\"p#paragraph-id b\")\n",
        "bold_text"
      ],
      "metadata": {
        "colab": {
          "base_uri": "https://localhost:8080/"
        },
        "id": "bPPwjACF5A-_",
        "outputId": "c5ae705b-8191-41ab-d360-80e1ba7d4ea0"
      },
      "execution_count": 82,
      "outputs": [
        {
          "output_type": "execute_result",
          "data": {
            "text/plain": [
              "[<b>Some bold text</b>]"
            ]
          },
          "metadata": {},
          "execution_count": 82
        }
      ]
    },
    {
      "cell_type": "code",
      "source": [
        "paragraphs = soup.select(\"body > p\")\n",
        "print(paragraphs)\n",
        "\n",
        "for paragraph in paragraphs:\n",
        "  print(paragraph.select(\"i\"))"
      ],
      "metadata": {
        "colab": {
          "base_uri": "https://localhost:8080/"
        },
        "id": "CEmegOvj5Csy",
        "outputId": "64d6c3b4-5968-42be-94dc-54a144f3a782"
      },
      "execution_count": 83,
      "outputs": [
        {
          "output_type": "stream",
          "name": "stdout",
          "text": [
            "[<p><i>Some italicized text</i></p>, <p id=\"paragraph-id\"><b>Some bold text</b></p>]\n",
            "[<i>Some italicized text</i>]\n",
            "[]\n"
          ]
        }
      ]
    },
    {
      "cell_type": "markdown",
      "source": [
        "##Get different properties of the HTML"
      ],
      "metadata": {
        "id": "fKK3Iwef5EEy"
      }
    },
    {
      "cell_type": "code",
      "source": [
        "# use .string\n",
        "header = soup.find(\"h2\")\n",
        "header.string"
      ],
      "metadata": {
        "colab": {
          "base_uri": "https://localhost:8080/",
          "height": 35
        },
        "id": "2wWOrgFt5GfR",
        "outputId": "b4273ef7-4caf-4114-bb60-f5e294cd2a6f"
      },
      "execution_count": 84,
      "outputs": [
        {
          "output_type": "execute_result",
          "data": {
            "text/plain": [
              "'A Header'"
            ],
            "application/vnd.google.colaboratory.intrinsic+json": {
              "type": "string"
            }
          },
          "metadata": {},
          "execution_count": 84
        }
      ]
    },
    {
      "cell_type": "code",
      "source": [
        "# If multiple child elements use get_text\n",
        "div = soup.find(\"div\")\n",
        "print(div.prettify())\n",
        "print(div.get_text())"
      ],
      "metadata": {
        "colab": {
          "base_uri": "https://localhost:8080/"
        },
        "id": "WzXqPVtm5Hao",
        "outputId": "6eadb822-a6b0-4d44-91f0-2b5843fef50a"
      },
      "execution_count": 85,
      "outputs": [
        {
          "output_type": "stream",
          "name": "stdout",
          "text": [
            "<div align=\"middle\">\n",
            " <h1>\n",
            "  HTML Webpage\n",
            " </h1>\n",
            " <p>\n",
            "  Link to more interesting example:\n",
            "  <a href=\"https://keithgalli.github.io/web-scraping/webpage.html\">\n",
            "   keithgalli.github.io/web-scraping/webpage.html\n",
            "  </a>\n",
            " </p>\n",
            "</div>\n",
            "\n",
            "\n",
            "HTML Webpage\n",
            "Link to more interesting example: keithgalli.github.io/web-scraping/webpage.html\n",
            "\n"
          ]
        }
      ]
    },
    {
      "cell_type": "code",
      "source": [
        "# Get a specific property from an element\n",
        "link = soup.find(\"a\")\n",
        "link['href']"
      ],
      "metadata": {
        "colab": {
          "base_uri": "https://localhost:8080/",
          "height": 35
        },
        "id": "E4Mab3r75Jhf",
        "outputId": "453fe46d-4210-4cf6-e41b-a4618d95d037"
      },
      "execution_count": 86,
      "outputs": [
        {
          "output_type": "execute_result",
          "data": {
            "text/plain": [
              "'https://keithgalli.github.io/web-scraping/webpage.html'"
            ],
            "application/vnd.google.colaboratory.intrinsic+json": {
              "type": "string"
            }
          },
          "metadata": {},
          "execution_count": 86
        }
      ]
    },
    {
      "cell_type": "code",
      "source": [
        "paragraphs = soup.select(\"p#paragraph-id\")\n",
        "paragraphs[0]['id']"
      ],
      "metadata": {
        "colab": {
          "base_uri": "https://localhost:8080/",
          "height": 35
        },
        "id": "knYqKAfU5K5Y",
        "outputId": "e502fe33-fc93-4ef8-8b58-4458e383539e"
      },
      "execution_count": 87,
      "outputs": [
        {
          "output_type": "execute_result",
          "data": {
            "text/plain": [
              "'paragraph-id'"
            ],
            "application/vnd.google.colaboratory.intrinsic+json": {
              "type": "string"
            }
          },
          "metadata": {},
          "execution_count": 87
        }
      ]
    },
    {
      "cell_type": "markdown",
      "source": [
        "##Code navigation"
      ],
      "metadata": {
        "id": "2a0q2gKq5M8a"
      }
    },
    {
      "cell_type": "code",
      "source": [
        "#path-----------\n",
        "soup.body.div.h1.string"
      ],
      "metadata": {
        "colab": {
          "base_uri": "https://localhost:8080/",
          "height": 35
        },
        "id": "DAPiEqP55NzN",
        "outputId": "575c3c15-238f-473b-916e-a911dedb2322"
      },
      "execution_count": 88,
      "outputs": [
        {
          "output_type": "execute_result",
          "data": {
            "text/plain": [
              "'HTML Webpage'"
            ],
            "application/vnd.google.colaboratory.intrinsic+json": {
              "type": "string"
            }
          },
          "metadata": {},
          "execution_count": 88
        }
      ]
    },
    {
      "cell_type": "code",
      "source": [
        "# Path Syntax\n",
        "print(soup.body.prettify())"
      ],
      "metadata": {
        "colab": {
          "base_uri": "https://localhost:8080/"
        },
        "id": "xJeToDxo5Pm0",
        "outputId": "58df03d5-9077-4949-d156-71bb76b094d1"
      },
      "execution_count": 89,
      "outputs": [
        {
          "output_type": "stream",
          "name": "stdout",
          "text": [
            "<body>\n",
            " <div align=\"middle\">\n",
            "  <h1>\n",
            "   HTML Webpage\n",
            "  </h1>\n",
            "  <p>\n",
            "   Link to more interesting example:\n",
            "   <a href=\"https://keithgalli.github.io/web-scraping/webpage.html\">\n",
            "    keithgalli.github.io/web-scraping/webpage.html\n",
            "   </a>\n",
            "  </p>\n",
            " </div>\n",
            " <h2>\n",
            "  A Header\n",
            " </h2>\n",
            " <p>\n",
            "  <i>\n",
            "   Some italicized text\n",
            "  </i>\n",
            " </p>\n",
            " <h2>\n",
            "  Another header\n",
            " </h2>\n",
            " <p id=\"paragraph-id\">\n",
            "  <b>\n",
            "   Some bold text\n",
            "  </b>\n",
            " </p>\n",
            "</body>\n",
            "\n"
          ]
        }
      ]
    },
    {
      "cell_type": "code",
      "source": [
        "# Know the terms: Parent, Sibling, Child\n",
        "\n",
        "soup.body.find(\"div\").find_next_siblings()"
      ],
      "metadata": {
        "colab": {
          "base_uri": "https://localhost:8080/"
        },
        "id": "iOM7CmjI5RZS",
        "outputId": "82489632-9afe-4887-e440-c338a61047ce"
      },
      "execution_count": 90,
      "outputs": [
        {
          "output_type": "execute_result",
          "data": {
            "text/plain": [
              "[<h2>A Header</h2>,\n",
              " <p><i>Some italicized text</i></p>,\n",
              " <h2>Another header</h2>,\n",
              " <p id=\"paragraph-id\"><b>Some bold text</b></p>]"
            ]
          },
          "metadata": {},
          "execution_count": 90
        }
      ]
    },
    {
      "cell_type": "markdown",
      "source": [
        "##Exersice-1"
      ],
      "metadata": {
        "id": "RqcfHlZm5URm"
      }
    },
    {
      "cell_type": "code",
      "source": [
        "# Load the webpage content\n",
        "r = requests.get(\"https://keithgalli.github.io/web-scraping/webpage.html\")\n",
        "\n",
        "# Convert to a beautiful soup object\n",
        "webpage = bs(r.content)\n",
        "\n",
        "# Print out our html\n",
        "print(webpage.prettify())"
      ],
      "metadata": {
        "colab": {
          "base_uri": "https://localhost:8080/"
        },
        "id": "WDUQV_ta5Wc9",
        "outputId": "d7086e35-f755-4118-ba09-8d9b302f1d2b"
      },
      "execution_count": 91,
      "outputs": [
        {
          "output_type": "stream",
          "name": "stdout",
          "text": [
            "<html>\n",
            " <head>\n",
            "  <title>\n",
            "   Keith Galli's Page\n",
            "  </title>\n",
            "  <style>\n",
            "   table {\n",
            "    border-collapse: collapse;\n",
            "  }\n",
            "  th {\n",
            "    padding:5px;\n",
            "  }\n",
            "  td {\n",
            "    border: 1px solid #ddd;\n",
            "    padding: 5px;\n",
            "  }\n",
            "  tr:nth-child(even) {\n",
            "    background-color: #f2f2f2;\n",
            "  }\n",
            "  th {\n",
            "    padding-top: 12px;\n",
            "    padding-bottom: 12px;\n",
            "    text-align: left;\n",
            "    background-color: #add8e6;\n",
            "    color: black;\n",
            "  }\n",
            "  .block {\n",
            "  width: 100px;\n",
            "  /*float: left;*/\n",
            "    display: inline-block;\n",
            "    zoom: 1;\n",
            "  }\n",
            "  .column {\n",
            "  float: left;\n",
            "  height: 200px;\n",
            "  /*width: 33.33%;*/\n",
            "  padding: 5px;\n",
            "  }\n",
            "\n",
            "  .row::after {\n",
            "    content: \"\";\n",
            "    clear: both;\n",
            "    display: table;\n",
            "  }\n",
            "  </style>\n",
            " </head>\n",
            " <body>\n",
            "  <h1>\n",
            "   Welcome to my page!\n",
            "  </h1>\n",
            "  <img src=\"./images/selfie1.jpg\" width=\"300px\"/>\n",
            "  <h2>\n",
            "   About me\n",
            "  </h2>\n",
            "  <p>\n",
            "   Hi, my name is Keith and I am a YouTuber who focuses on content related to programming, data science, and machine learning!\n",
            "  </p>\n",
            "  <p>\n",
            "   Here is a link to my channel:\n",
            "   <a href=\"https://www.youtube.com/kgmit\">\n",
            "    youtube.com/kgmit\n",
            "   </a>\n",
            "  </p>\n",
            "  <p>\n",
            "   I grew up in the great state of New Hampshire here in the USA. From an early age I always loved math. Around my senior year of high school, my brother first introduced me to programming. I found it a creative way to apply the same type of logical thinking skills that I enjoyed with math. This influenced me to study computer science in college and ultimately create a YouTube channel to share some things that I have learned along the way.\n",
            "  </p>\n",
            "  <h3>\n",
            "   Hobbies\n",
            "  </h3>\n",
            "  <p>\n",
            "   Believe it or not, I don't code 24/7. I love doing all sorts of active things. I like to play ice hockey &amp; table tennis as well as run, hike, skateboard, and snowboard. In addition to sports, I am a board game enthusiast. The two that I've been playing the most recently are\n",
            "   <i>\n",
            "    Settlers of Catan\n",
            "   </i>\n",
            "   and\n",
            "   <i>\n",
            "    Othello\n",
            "   </i>\n",
            "   .\n",
            "  </p>\n",
            "  <h3>\n",
            "   Fun Facts\n",
            "  </h3>\n",
            "  <ul class=\"fun-facts\">\n",
            "   <li>\n",
            "    Owned my dream car in high school\n",
            "    <a href=\"#footer\">\n",
            "     <sup>\n",
            "      1\n",
            "     </sup>\n",
            "    </a>\n",
            "   </li>\n",
            "   <li>\n",
            "    Middle name is Ronald\n",
            "   </li>\n",
            "   <li>\n",
            "    Never had been on a plane until college\n",
            "   </li>\n",
            "   <li>\n",
            "    Dunkin Donuts coffee is better than Starbucks\n",
            "   </li>\n",
            "   <li>\n",
            "    A favorite book series of mine is\n",
            "    <i>\n",
            "     Ender's Game\n",
            "    </i>\n",
            "   </li>\n",
            "   <li>\n",
            "    Current video game of choice is\n",
            "    <i>\n",
            "     Rocket League\n",
            "    </i>\n",
            "   </li>\n",
            "   <li>\n",
            "    The band that I've seen the most times live is the\n",
            "    <i>\n",
            "     Zac Brown Band\n",
            "    </i>\n",
            "   </li>\n",
            "  </ul>\n",
            "  <h2>\n",
            "   Social Media\n",
            "  </h2>\n",
            "  I encourage you to check out my content on all social media platforms\n",
            "  <br/>\n",
            "  <ul class=\"socials\">\n",
            "   <li class=\"social instagram\">\n",
            "    <b>\n",
            "     Instagram:\n",
            "    </b>\n",
            "    <a href=\"https://www.instagram.com/keithgalli/\">\n",
            "     https://www.instagram.com/keithgalli/\n",
            "    </a>\n",
            "   </li>\n",
            "   <li class=\"social twitter\">\n",
            "    <b>\n",
            "     Twitter:\n",
            "    </b>\n",
            "    <a href=\"https://twitter.com/keithgalli\">\n",
            "     https://twitter.com/keithgalli\n",
            "    </a>\n",
            "   </li>\n",
            "   <li class=\"social linkedin\">\n",
            "    <b>\n",
            "     LinkedIn:\n",
            "    </b>\n",
            "    <a href=\"https://www.linkedin.com/in/keithgalli/\">\n",
            "     https://www.linkedin.com/in/keithgalli/\n",
            "    </a>\n",
            "   </li>\n",
            "   <li class=\"social tiktok\">\n",
            "    <b>\n",
            "     TikTok:\n",
            "    </b>\n",
            "    <a href=\"https://www.tiktok.com/@keithgalli\">\n",
            "     https://www.tiktok.com/@keithgalli\n",
            "    </a>\n",
            "   </li>\n",
            "  </ul>\n",
            "  <h2>\n",
            "   Photos\n",
            "  </h2>\n",
            "  Here are a few photos from a trip to italy I took last year\n",
            "  <div class=\"row\">\n",
            "   <div class=\"column\">\n",
            "    <img alt=\"Lake Como\" src=\"images/italy/lake_como.jpg\" style=\"height:100%\"/>\n",
            "   </div>\n",
            "   <div class=\"column\">\n",
            "    <img alt=\"Pontevecchio, Florence\" src=\"images/italy/pontevecchio.jpg\" style=\"height:100%\"/>\n",
            "   </div>\n",
            "   <div class=\"column\">\n",
            "    <img alt=\"Riomaggiore, Cinque de Terre\" src=\"images/italy/riomaggiore.jpg\" style=\"height:100%\"/>\n",
            "   </div>\n",
            "  </div>\n",
            "  <div>\n",
            "  </div>\n",
            "  <h2>\n",
            "   Table\n",
            "  </h2>\n",
            "  My MIT hockey stats :)\n",
            "  <br/>\n",
            "  <table class=\"hockey-stats\">\n",
            "   <thead>\n",
            "    <tr>\n",
            "     <th class=\"season\" data-sort=\"\">\n",
            "      S\n",
            "     </th>\n",
            "     <th class=\"team\" data-sort=\"team\">\n",
            "      Team\n",
            "     </th>\n",
            "     <th class=\"league\" data-sort=\"league\">\n",
            "      League\n",
            "     </th>\n",
            "     <th class=\"regular gp\" data-sort=\"gp\">\n",
            "      GP\n",
            "     </th>\n",
            "     <th class=\"regular g\" data-sort=\"g\">\n",
            "      G\n",
            "     </th>\n",
            "     <th class=\"regular a\" data-sort=\"a\">\n",
            "      A\n",
            "     </th>\n",
            "     <th class=\"regular tp\" data-sort=\"tp\">\n",
            "      TP\n",
            "     </th>\n",
            "     <th class=\"regular pim\" data-sort=\"pim\">\n",
            "      PIM\n",
            "     </th>\n",
            "     <th class=\"regular pm\" data-sort=\"pm\">\n",
            "      +/-\n",
            "     </th>\n",
            "     <th class=\"separator\">\n",
            "     </th>\n",
            "     <th class=\"postseason\">\n",
            "      POST\n",
            "     </th>\n",
            "     <th class=\"postseason gp\" data-sort=\"playoffs-gp\">\n",
            "      GP\n",
            "     </th>\n",
            "     <th class=\"postseason g\" data-sort=\"playoffs-g\">\n",
            "      G\n",
            "     </th>\n",
            "     <th class=\"postseason a\" data-sort=\"playoffs-a\">\n",
            "      A\n",
            "     </th>\n",
            "     <th class=\"postseason tp\" data-sort=\"playoffs-tp\">\n",
            "      TP\n",
            "     </th>\n",
            "     <th class=\"postseason pim\" data-sort=\"playoffs-pim\">\n",
            "      PIM\n",
            "     </th>\n",
            "     <th class=\"postseason pm\" data-sort=\"playoffs-pm\">\n",
            "      +/-\n",
            "     </th>\n",
            "    </tr>\n",
            "   </thead>\n",
            "   <tbody>\n",
            "    <tr class=\"team-continent-NA\">\n",
            "     <td class=\"season sorted\">\n",
            "      2014-15\n",
            "     </td>\n",
            "     <td class=\"team\">\n",
            "      <i>\n",
            "       <img src=\"images/flag.png\"/>\n",
            "      </i>\n",
            "      <span class=\"txt-blue\">\n",
            "       <a href=\"https://www.eliteprospects.com/team/10263/mit-mass.-inst.-of-tech./2014-2015?tab=stats\">\n",
            "        MIT (Mass. Inst. of Tech.)\n",
            "       </a>\n",
            "      </span>\n",
            "     </td>\n",
            "     <td class=\"league\">\n",
            "      <a href=\"https://www.eliteprospects.com/league/acha-ii/stats/2014-2015\">\n",
            "       ACHA II\n",
            "      </a>\n",
            "     </td>\n",
            "     <td class=\"regular gp\">\n",
            "      17\n",
            "     </td>\n",
            "     <td class=\"regular g\">\n",
            "      3\n",
            "     </td>\n",
            "     <td class=\"regular a\">\n",
            "      9\n",
            "     </td>\n",
            "     <td class=\"regular tp\">\n",
            "      12\n",
            "     </td>\n",
            "     <td class=\"regular pim\">\n",
            "      20\n",
            "     </td>\n",
            "     <td class=\"regular pm\">\n",
            "     </td>\n",
            "     <td class=\"separator\">\n",
            "      |\n",
            "     </td>\n",
            "     <td class=\"postseason\">\n",
            "      <a href=\"https://www.eliteprospects.com/league/acha-ii/stats/2014-2015\">\n",
            "      </a>\n",
            "     </td>\n",
            "     <td class=\"postseason gp\">\n",
            "     </td>\n",
            "     <td class=\"postseason g\">\n",
            "     </td>\n",
            "     <td class=\"postseason a\">\n",
            "     </td>\n",
            "     <td class=\"postseason tp\">\n",
            "     </td>\n",
            "     <td class=\"postseason pim\">\n",
            "     </td>\n",
            "     <td class=\"postseason pm\">\n",
            "     </td>\n",
            "    </tr>\n",
            "    <tr class=\"team-continent-NA\">\n",
            "     <td class=\"season sorted\">\n",
            "      2015-16\n",
            "     </td>\n",
            "     <td class=\"team\">\n",
            "      <i>\n",
            "       <img src=\"images/flag.png\"/>\n",
            "      </i>\n",
            "      <span class=\"txt-blue\">\n",
            "       <a href=\"https://www.eliteprospects.com/team/10263/mit-mass.-inst.-of-tech./2015-2016?tab=stats\">\n",
            "        MIT (Mass. Inst. of Tech.)\n",
            "       </a>\n",
            "      </span>\n",
            "     </td>\n",
            "     <td class=\"league\">\n",
            "      <a href=\"https://www.eliteprospects.com/league/acha-ii/stats/2015-2016\">\n",
            "       ACHA II\n",
            "      </a>\n",
            "     </td>\n",
            "     <td class=\"regular gp\">\n",
            "      9\n",
            "     </td>\n",
            "     <td class=\"regular g\">\n",
            "      1\n",
            "     </td>\n",
            "     <td class=\"regular a\">\n",
            "      1\n",
            "     </td>\n",
            "     <td class=\"regular tp\">\n",
            "      2\n",
            "     </td>\n",
            "     <td class=\"regular pim\">\n",
            "      2\n",
            "     </td>\n",
            "     <td class=\"regular pm\">\n",
            "     </td>\n",
            "     <td class=\"separator\">\n",
            "      |\n",
            "     </td>\n",
            "     <td class=\"postseason\">\n",
            "      <a href=\"https://www.eliteprospects.com/league/acha-ii/stats/2015-2016\">\n",
            "      </a>\n",
            "     </td>\n",
            "     <td class=\"postseason gp\">\n",
            "     </td>\n",
            "     <td class=\"postseason g\">\n",
            "     </td>\n",
            "     <td class=\"postseason a\">\n",
            "     </td>\n",
            "     <td class=\"postseason tp\">\n",
            "     </td>\n",
            "     <td class=\"postseason pim\">\n",
            "     </td>\n",
            "     <td class=\"postseason pm\">\n",
            "     </td>\n",
            "    </tr>\n",
            "    <tr class=\"team-continent-NA\">\n",
            "     <td class=\"season sorted\">\n",
            "      2016-17\n",
            "     </td>\n",
            "     <td class=\"team\">\n",
            "      <i>\n",
            "       <img src=\"images/flag.png\"/>\n",
            "      </i>\n",
            "      <span class=\"txt-blue\">\n",
            "       <a href=\"https://www.eliteprospects.com/team/10263/mit-mass.-inst.-of-tech./2016-2017?tab=stats\">\n",
            "        MIT (Mass. Inst. of Tech.)\n",
            "       </a>\n",
            "      </span>\n",
            "     </td>\n",
            "     <td class=\"league\">\n",
            "      <a href=\"https://www.eliteprospects.com/league/acha-ii/stats/2016-2017\">\n",
            "       ACHA II\n",
            "      </a>\n",
            "     </td>\n",
            "     <td class=\"regular gp\">\n",
            "      12\n",
            "     </td>\n",
            "     <td class=\"regular g\">\n",
            "      5\n",
            "     </td>\n",
            "     <td class=\"regular a\">\n",
            "      5\n",
            "     </td>\n",
            "     <td class=\"regular tp\">\n",
            "      10\n",
            "     </td>\n",
            "     <td class=\"regular pim\">\n",
            "      8\n",
            "     </td>\n",
            "     <td class=\"regular pm\">\n",
            "      0\n",
            "     </td>\n",
            "     <td class=\"separator\">\n",
            "      |\n",
            "     </td>\n",
            "     <td class=\"postseason\">\n",
            "     </td>\n",
            "     <td class=\"postseason gp\">\n",
            "     </td>\n",
            "     <td class=\"postseason g\">\n",
            "     </td>\n",
            "     <td class=\"postseason a\">\n",
            "     </td>\n",
            "     <td class=\"postseason tp\">\n",
            "     </td>\n",
            "     <td class=\"postseason pim\">\n",
            "     </td>\n",
            "     <td class=\"postseason pm\">\n",
            "     </td>\n",
            "    </tr>\n",
            "    <tr class=\"team-continent-EU\">\n",
            "     <td class=\"season sorted\">\n",
            "      2017-18\n",
            "     </td>\n",
            "     <td class=\"team\">\n",
            "      Did not play\n",
            "     </td>\n",
            "     <td class=\"league\">\n",
            "      <a href=\"https://www.eliteprospects.com/stats\">\n",
            "      </a>\n",
            "     </td>\n",
            "     <td class=\"regular gp\">\n",
            "     </td>\n",
            "     <td class=\"regular g\">\n",
            "     </td>\n",
            "     <td class=\"regular a\">\n",
            "     </td>\n",
            "     <td class=\"regular tp\">\n",
            "     </td>\n",
            "     <td class=\"regular pim\">\n",
            "     </td>\n",
            "     <td class=\"regular pm\">\n",
            "     </td>\n",
            "     <td class=\"separator\">\n",
            "      |\n",
            "     </td>\n",
            "     <td class=\"postseason\">\n",
            "      <a href=\"https://www.eliteprospects.com/stats\">\n",
            "      </a>\n",
            "     </td>\n",
            "     <td class=\"postseason gp\">\n",
            "     </td>\n",
            "     <td class=\"postseason g\">\n",
            "     </td>\n",
            "     <td class=\"postseason a\">\n",
            "     </td>\n",
            "     <td class=\"postseason tp\">\n",
            "     </td>\n",
            "     <td class=\"postseason pim\">\n",
            "     </td>\n",
            "     <td class=\"postseason pm\">\n",
            "     </td>\n",
            "    </tr>\n",
            "    <tr class=\"team-continent-NA\">\n",
            "     <td class=\"season sorted\">\n",
            "      2018-19\n",
            "     </td>\n",
            "     <td class=\"team\">\n",
            "      <i>\n",
            "       <img src=\"images/flag.png\"/>\n",
            "      </i>\n",
            "      <span class=\"txt-blue\">\n",
            "       <a href=\"https://www.eliteprospects.com/team/10263/mit-mass.-inst.-of-tech./2018-2019?tab=stats\">\n",
            "        MIT (Mass. Inst. of Tech.)\n",
            "       </a>\n",
            "      </span>\n",
            "     </td>\n",
            "     <td class=\"league\">\n",
            "      <a href=\"https://www.eliteprospects.com/league/acha-iii/stats/2018-2019\">\n",
            "       ACHA III\n",
            "      </a>\n",
            "     </td>\n",
            "     <td class=\"regular gp\">\n",
            "      8\n",
            "     </td>\n",
            "     <td class=\"regular g\">\n",
            "      5\n",
            "     </td>\n",
            "     <td class=\"regular a\">\n",
            "      10\n",
            "     </td>\n",
            "     <td class=\"regular tp\">\n",
            "      15\n",
            "     </td>\n",
            "     <td class=\"regular pim\">\n",
            "      8\n",
            "     </td>\n",
            "     <td class=\"regular pm\">\n",
            "     </td>\n",
            "     <td class=\"separator\">\n",
            "      |\n",
            "     </td>\n",
            "     <td class=\"postseason\">\n",
            "      <a href=\"https://www.eliteprospects.com/league/acha-iii/stats/2018-2019\">\n",
            "      </a>\n",
            "     </td>\n",
            "     <td class=\"postseason gp\">\n",
            "     </td>\n",
            "     <td class=\"postseason g\">\n",
            "     </td>\n",
            "     <td class=\"postseason a\">\n",
            "     </td>\n",
            "     <td class=\"postseason tp\">\n",
            "     </td>\n",
            "     <td class=\"postseason pim\">\n",
            "     </td>\n",
            "     <td class=\"postseason pm\">\n",
            "     </td>\n",
            "    </tr>\n",
            "   </tbody>\n",
            "  </table>\n",
            "  <h2>\n",
            "   Mystery Message Challenge!\n",
            "  </h2>\n",
            "  <p>\n",
            "   If you scrape the links below grabbing the &lt;p&gt; tag with id=\"secret-word\", you'll discover a secret message :)\n",
            "  </p>\n",
            "  <div width=\"50%\">\n",
            "   <div align=\"left\" class=\"block\">\n",
            "    <ul>\n",
            "     <li>\n",
            "      <a href=\"challenge/file_1.html\">\n",
            "       File 1\n",
            "      </a>\n",
            "     </li>\n",
            "     <li>\n",
            "      <a href=\"challenge/file_2.html\">\n",
            "       File 2\n",
            "      </a>\n",
            "     </li>\n",
            "     <li>\n",
            "      <a href=\"challenge/file_3.html\">\n",
            "       File 3\n",
            "      </a>\n",
            "     </li>\n",
            "     <li>\n",
            "      <a href=\"challenge/file_4.html\">\n",
            "       File 4\n",
            "      </a>\n",
            "     </li>\n",
            "     <li>\n",
            "      <a href=\"challenge/file_5.html\">\n",
            "       File 5\n",
            "      </a>\n",
            "     </li>\n",
            "    </ul>\n",
            "   </div>\n",
            "   <div align=\"center\" class=\"block\">\n",
            "    <ul>\n",
            "     <li>\n",
            "      <a href=\"challenge/file_6.html\">\n",
            "       File 6\n",
            "      </a>\n",
            "     </li>\n",
            "     <li>\n",
            "      <a href=\"challenge/file_7.html\">\n",
            "       File 7\n",
            "      </a>\n",
            "     </li>\n",
            "     <li>\n",
            "      <a href=\"challenge/file_8.html\">\n",
            "       File 8\n",
            "      </a>\n",
            "     </li>\n",
            "     <li>\n",
            "      <a href=\"challenge/file_9.html\">\n",
            "       File 9\n",
            "      </a>\n",
            "     </li>\n",
            "     <li>\n",
            "      <a href=\"challenge/file_10.html\">\n",
            "       File 10\n",
            "      </a>\n",
            "     </li>\n",
            "    </ul>\n",
            "   </div>\n",
            "  </div>\n",
            "  <h2>\n",
            "   Footnotes\n",
            "  </h2>\n",
            "  <p id=\"footer\">\n",
            "   1. This was actually a minivan that I named Debora. Maybe not my dream car, but I loved her nonetheless.\n",
            "  </p>\n",
            " </body>\n",
            "</html>\n",
            "\n"
          ]
        }
      ]
    },
    {
      "cell_type": "markdown",
      "source": [
        ">  ## Grab all of the social links from the webpage"
      ],
      "metadata": {
        "id": "H9Cv2gxJ5bQK"
      }
    },
    {
      "cell_type": "markdown",
      "source": [
        "Do this in at least 3 different ways"
      ],
      "metadata": {
        "id": "hScFKCqn5kXX"
      }
    },
    {
      "cell_type": "code",
      "source": [
        "links = webpage.select(\"ul.socials a\")\n",
        "actual_links = [link['href'] for link in links]\n",
        "actual_links"
      ],
      "metadata": {
        "colab": {
          "base_uri": "https://localhost:8080/"
        },
        "id": "5F2QnxYx5mOd",
        "outputId": "ceb00e2d-6344-4825-a88f-37ccf3a4bc0a"
      },
      "execution_count": 92,
      "outputs": [
        {
          "output_type": "execute_result",
          "data": {
            "text/plain": [
              "['https://www.instagram.com/keithgalli/',\n",
              " 'https://twitter.com/keithgalli',\n",
              " 'https://www.linkedin.com/in/keithgalli/',\n",
              " 'https://www.tiktok.com/@keithgalli']"
            ]
          },
          "metadata": {},
          "execution_count": 92
        }
      ]
    },
    {
      "cell_type": "code",
      "source": [
        "ulist = webpage.find(\"ul\", attrs={\"class\": \"socials\"})  #ulist = webpage.find(\"ul\", class_= \"socials\")\n",
        "\n",
        "links = ulist.find_all(\"a\")\n",
        "actual_links = [link['href'] for link in links]\n",
        "actual_links"
      ],
      "metadata": {
        "colab": {
          "base_uri": "https://localhost:8080/"
        },
        "id": "h6J3T9an5Yqs",
        "outputId": "9b312a35-bbaf-4d65-ff8b-8f68f00cb2a3"
      },
      "execution_count": 93,
      "outputs": [
        {
          "output_type": "execute_result",
          "data": {
            "text/plain": [
              "['https://www.instagram.com/keithgalli/',\n",
              " 'https://twitter.com/keithgalli',\n",
              " 'https://www.linkedin.com/in/keithgalli/',\n",
              " 'https://www.tiktok.com/@keithgalli']"
            ]
          },
          "metadata": {},
          "execution_count": 93
        }
      ]
    },
    {
      "cell_type": "code",
      "source": [
        "links = webpage.select('li.social a')\n",
        "links\n",
        "actual_links = [link['href'] for link in links]\n",
        "actual_links"
      ],
      "metadata": {
        "colab": {
          "base_uri": "https://localhost:8080/"
        },
        "id": "QPtoFeam5pjA",
        "outputId": "3c173c6f-6557-4478-ab2a-512bd51db830"
      },
      "execution_count": 94,
      "outputs": [
        {
          "output_type": "execute_result",
          "data": {
            "text/plain": [
              "['https://www.instagram.com/keithgalli/',\n",
              " 'https://twitter.com/keithgalli',\n",
              " 'https://www.linkedin.com/in/keithgalli/',\n",
              " 'https://www.tiktok.com/@keithgalli']"
            ]
          },
          "metadata": {},
          "execution_count": 94
        }
      ]
    },
    {
      "cell_type": "code",
      "source": [
        "links = webpage.select(\"body ul li.social a\")\n",
        "links"
      ],
      "metadata": {
        "colab": {
          "base_uri": "https://localhost:8080/"
        },
        "id": "psSjhPag5rMJ",
        "outputId": "4419a07c-caa2-453d-e82f-379af7f4f074"
      },
      "execution_count": 95,
      "outputs": [
        {
          "output_type": "execute_result",
          "data": {
            "text/plain": [
              "[<a href=\"https://www.instagram.com/keithgalli/\">https://www.instagram.com/keithgalli/</a>,\n",
              " <a href=\"https://twitter.com/keithgalli\">https://twitter.com/keithgalli</a>,\n",
              " <a href=\"https://www.linkedin.com/in/keithgalli/\">https://www.linkedin.com/in/keithgalli/</a>,\n",
              " <a href=\"https://www.tiktok.com/@keithgalli\">https://www.tiktok.com/@keithgalli</a>]"
            ]
          },
          "metadata": {},
          "execution_count": 95
        }
      ]
    },
    {
      "cell_type": "markdown",
      "source": [
        "# if response code is 403"
      ],
      "metadata": {
        "id": "5CNZSGlD7GFL"
      }
    },
    {
      "cell_type": "markdown",
      "source": [
        "\n",
        "```\n",
        "headers={'User-Agent':'Mozilla/5.0 (Windows NT 6.3; Win 64 ; x64) Apple WeKit /537.36(KHTML , like Gecko) Chrome/80.0.3987.162 Safari/537.36'}\n",
        "\n",
        "```\n",
        "\n"
      ],
      "metadata": {
        "id": "dxQkaXCH7JkV"
      }
    }
  ]
}